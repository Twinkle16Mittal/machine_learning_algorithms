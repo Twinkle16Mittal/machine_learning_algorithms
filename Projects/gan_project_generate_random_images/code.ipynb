{
 "cells": [
  {
   "cell_type": "code",
   "execution_count": 30,
   "id": "ee0221ff-1ddc-4719-b64e-ced0fc78adcc",
   "metadata": {},
   "outputs": [],
   "source": [
    "import tensorflow as tf\n",
    "import numpy as np\n",
    "import matplotlib.pyplot as plt\n",
    "from tensorflow.keras import layers"
   ]
  },
  {
   "cell_type": "code",
   "execution_count": 31,
   "id": "7a77831d-d5e7-4a9f-83cc-ad538ec7208a",
   "metadata": {},
   "outputs": [],
   "source": [
    "# load and preprocess MNIST dataset\n",
    "def load_data():\n",
    "    (x_train, _), (_, _) = tf.keras.datasets.mnist.load_data()\n",
    "    x_train = (x_train.astype(np.float32)-127.5) / 127.5  # Normalize to [-1,1]\n",
    "    x_train = np.expand_dims(x_train, axis=-1) # Add channel dimension\n",
    "    return tf.data.Dataset.from_tensor_slices(x_train).shuffle(60000).batch(128).prefetch(tf.data.AUTOTUNE)"
   ]
  },
  {
   "cell_type": "code",
   "execution_count": 32,
   "id": "2520a958-1756-49de-aa2d-398b0376ba65",
   "metadata": {},
   "outputs": [],
   "source": [
    "def build_generator():\n",
    "    model = tf.keras.Sequential([\n",
    "        layers.Dense(7*7*256, use_bias=False, input_shape=(100,)),\n",
    "        layers.BatchNormalization(),\n",
    "        layers.LeakyReLU(alpha=0.2),\n",
    "        layers.Reshape((7, 7, 256)),\n",
    "        layers.Conv2DTranspose(128, (5,5), strides=(1,1), padding='same', use_bias=False),\n",
    "        layers.BatchNormalization(),\n",
    "        layers.LeakyReLU(alpha=0.2),\n",
    "        layers.Conv2DTranspose(64, (5,5), strides=(2,2), padding='same', use_bias=False),\n",
    "        layers.BatchNormalization(),\n",
    "        layers.LeakyReLU(alpha=0.2),\n",
    "        layers.Conv2DTranspose(1, (5,5), strides=(2,2), padding='same', activation='tanh')\n",
    "    ])\n",
    "    return model"
   ]
  },
  {
   "cell_type": "code",
   "execution_count": 33,
   "id": "d9e588dd-9894-421e-8bc8-6cac66864c7d",
   "metadata": {},
   "outputs": [],
   "source": [
    "def build_discriminator():\n",
    "    model = tf.keras.Sequential([\n",
    "        layers.Conv2D(64, (5,5), strides=(2,2), padding='same', input_shape=[28,28,1]),\n",
    "        layers.LeakyReLU(alpha=0.2),\n",
    "        layers.Dropout(0.3),\n",
    "        layers.Conv2D(128, (5,5), strides=(2,2), padding='same'),\n",
    "        layers.LeakyReLU(alpha=0.2),\n",
    "        layers.Dropout(0.3),\n",
    "        layers.Flatten(),\n",
    "        layers.Dense(1, activation='sigmoid')\n",
    "    ])\n",
    "    return model"
   ]
  },
  {
   "cell_type": "code",
   "execution_count": 34,
   "id": "631b63f0-ba2f-4d30-8ec1-4abdf9bf25f4",
   "metadata": {},
   "outputs": [],
   "source": [
    "def get_optimizers():\n",
    "    return tf.keras.optimizers.Adam(1e-4), tf.keras.optimizers.Adam(1e-4)"
   ]
  },
  {
   "cell_type": "code",
   "execution_count": 35,
   "id": "2f571ed0-649b-4ffb-b00a-77f5de17b254",
   "metadata": {},
   "outputs": [
    {
     "name": "stderr",
     "output_type": "stream",
     "text": [
      "/opt/homebrew/Cellar/jupyterlab/4.4.5/libexec/lib/python3.13/site-packages/keras/src/layers/core/dense.py:92: UserWarning: Do not pass an `input_shape`/`input_dim` argument to a layer. When using Sequential models, prefer using an `Input(shape)` object as the first layer in the model instead.\n",
      "  super().__init__(activity_regularizer=activity_regularizer, **kwargs)\n",
      "/opt/homebrew/Cellar/jupyterlab/4.4.5/libexec/lib/python3.13/site-packages/keras/src/layers/activations/leaky_relu.py:41: UserWarning: Argument `alpha` is deprecated. Use `negative_slope` instead.\n",
      "  warnings.warn(\n",
      "/opt/homebrew/Cellar/jupyterlab/4.4.5/libexec/lib/python3.13/site-packages/keras/src/layers/convolutional/base_conv.py:113: UserWarning: Do not pass an `input_shape`/`input_dim` argument to a layer. When using Sequential models, prefer using an `Input(shape)` object as the first layer in the model instead.\n",
      "  super().__init__(activity_regularizer=activity_regularizer, **kwargs)\n"
     ]
    }
   ],
   "source": [
    "generator = build_generator()\n",
    "discriminator = build_discriminator()\n",
    "g_opt, d_opt = get_optimizers()\n",
    "loss_fn = tf.keras.losses.BinaryCrossentropy()"
   ]
  },
  {
   "cell_type": "code",
   "execution_count": 36,
   "id": "f8072016-46ca-445b-b29f-3e8d2fb8091e",
   "metadata": {},
   "outputs": [],
   "source": [
    "# Discriminator wants real images as 1, fake images as 0\n",
    "# Generator wants fake images to be classified as real ("
   ]
  },
  {
   "cell_type": "code",
   "execution_count": 37,
   "id": "9413b419-af0e-4e6d-a5c4-79e279aa7a1f",
   "metadata": {},
   "outputs": [],
   "source": [
    "@tf.function  # Compiles to a TensorFlow graph for speed\n",
    "def train_step(images):\n",
    "    noise = tf.random.normal([128, 100]) # creates a batch of 128 random noise vectors, each of size 100-dimensional\n",
    "\n",
    "    with tf.GradientTape() as gen_tape, tf.GradientTape() as disc_tape:\n",
    "        generated_images = generator(noise, training=True) # generator takes the random noise as input and produces fake images resembling real MNIST digits\n",
    "        real_output = discriminator(images, training=True) # discriminator predicts whether real MNIST images are real (should be close to 1)\n",
    "        fake_output = discriminator(generated_images, training=True) # discriminator predicts whether the generated (fake) images are real (should be close to 0)\n",
    "\n",
    "        gen_loss = loss_fn(tf.ones_like(fake_output), fake_output) # tf.ones_like(fake_output) creates a tensor of ones, representing \"real\" labels\n",
    "                                                                   # loss_fn (Binary Crossentropy loss) measures how close fake_output is to 1\n",
    "                                                                   # lower generator loss means the generator is successfully fooling the discriminator\n",
    "                                                                   # higher generator loss means the generator is performing poorly\n",
    "        disc_loss = (loss_fn(tf.ones_like(real_output), real_output) + # how well the discriminator classifies real images as real (close to 1)\n",
    "                     loss_fn(tf.zeros_like(fake_output), fake_output)) # how well the discriminator classifies fake images as fake (close to 0)\n",
    "\n",
    "\n",
    "    gradients_of_generator = gen_tape.gradient(gen_loss, generator.trainable_variables) # compute gradients for generator parameters\n",
    "    gradients_of_discriminator = disc_tape.gradient(disc_loss, discriminator.trainable_variables) # compute gradients for discriminator parameters\n",
    "\n",
    "    g_opt.apply_gradients(zip(gradients_of_generator, generator.trainable_variables)) # update the generator's weights\n",
    "    d_opt.apply_gradients(zip(gradients_of_discriminator, discriminator.trainable_variables)) # updates the discriminator's weight\n",
    "\n",
    "    return gen_loss, disc_loss"
   ]
  },
  {
   "cell_type": "code",
   "execution_count": 38,
   "id": "adce862f-6b60-4e70-8956-8059bf7f280d",
   "metadata": {},
   "outputs": [],
   "source": [
    "def train(dataset, epochs=20):\n",
    "    for epoch in range(epochs):\n",
    "        for batch in dataset:\n",
    "            gen_loss, disc_loss = train_step(batch)\n",
    "        print(f\"Epoch {epoch+1}, Gen Loss: {gen_loss.numpy():.4f}, Disc Loss: {disc_loss.numpy():.4f}\")\n",
    "        "
   ]
  },
  {
   "cell_type": "code",
   "execution_count": 39,
   "id": "68393cf0-73bd-4ac2-8987-9a0dbf560047",
   "metadata": {},
   "outputs": [],
   "source": [
    "def generate_and_show():\n",
    "    noise = tf.random.normal([16,100])\n",
    "    images = generator(noise, training= False)\n",
    "    images = (images+1)/ 2 # Rescale to [0,1]\n",
    "    fig, axes = plt.subplots(4,4,figsize=(4,4))\n",
    "    for i, ax in enumerate(axes.flat):\n",
    "        ax.imshow(images[i, :, :, 0], cmap='gray')\n",
    "        ax.axis('off')\n",
    "    plt.show()\n",
    "\n",
    "    "
   ]
  },
  {
   "cell_type": "code",
   "execution_count": 40,
   "id": "cc345dea-0946-4f7c-97e6-e5a1f37196ea",
   "metadata": {},
   "outputs": [
    {
     "name": "stderr",
     "output_type": "stream",
     "text": [
      "2025-08-20 10:27:36.756654: I tensorflow/core/framework/local_rendezvous.cc:407] Local rendezvous is aborting with status: OUT_OF_RANGE: End of sequence\n"
     ]
    },
    {
     "name": "stdout",
     "output_type": "stream",
     "text": [
      "Epoch 1, Gen Loss: 1.5966, Disc Loss: 0.4932\n",
      "Epoch 2, Gen Loss: 0.8945, Disc Loss: 1.1075\n"
     ]
    },
    {
     "name": "stderr",
     "output_type": "stream",
     "text": [
      "2025-08-20 10:32:34.578658: I tensorflow/core/framework/local_rendezvous.cc:407] Local rendezvous is aborting with status: OUT_OF_RANGE: End of sequence\n"
     ]
    },
    {
     "name": "stdout",
     "output_type": "stream",
     "text": [
      "Epoch 3, Gen Loss: 0.8235, Disc Loss: 1.3227\n",
      "Epoch 4, Gen Loss: 0.9748, Disc Loss: 1.1062\n",
      "Epoch 5, Gen Loss: 1.3565, Disc Loss: 0.6820\n",
      "Epoch 6, Gen Loss: 1.4062, Disc Loss: 0.8064\n"
     ]
    },
    {
     "name": "stderr",
     "output_type": "stream",
     "text": [
      "2025-08-20 10:43:04.481526: I tensorflow/core/framework/local_rendezvous.cc:407] Local rendezvous is aborting with status: OUT_OF_RANGE: End of sequence\n"
     ]
    },
    {
     "name": "stdout",
     "output_type": "stream",
     "text": [
      "Epoch 7, Gen Loss: 1.2380, Disc Loss: 1.0438\n",
      "Epoch 8, Gen Loss: 1.0943, Disc Loss: 1.0754\n",
      "Epoch 9, Gen Loss: 1.1400, Disc Loss: 1.1002\n",
      "Epoch 10, Gen Loss: 0.9799, Disc Loss: 1.1354\n"
     ]
    },
    {
     "data": {
      "image/png": "[encoded data removed]",
      "text/plain": [
       "<Figure size 400x400 with 16 Axes>"
      ]
     },
     "metadata": {},
     "output_type": "display_data"
    }
   ],
   "source": [
    "# Load Data and Train\n",
    "minist_data = load_data()\n",
    "train(minist_data, epochs=10)\n",
    "generate_and_show()"
   ]
  },
  {
   "cell_type": "code",
   "execution_count": null,
   "id": "594c0553-efee-4540-ad62-ba00e5b68ab6",
   "metadata": {},
   "outputs": [],
   "source": [
    "# The @tf.function decorator compiles the function into a TensorFlow computational graph. This makes execution significantly faster because:\n",
    "\n",
    "# TensorFlow optimizes the operations for GPUs.\n",
    "# It avoids Python overhead by compiling it into low-level operations.\n",
    "# It allows parallel execution where possible.\n",
    "# This is beneficial because training deep learning models is computationally intensive, and performance improvements matter.\n",
    "\n",
    "# Early Training: The generator is weak, so fake_output is low. gen_loss is high (because G is failing). The discriminator is strong, so disc_loss is low.\n",
    "\n",
    "# Mid Training: The generator improves, so fake_output increases. gen_loss starts decreasing. The discriminator gets confused, so disc_loss increases.\n",
    "\n",
    "# Late Training (Ideal Case): The generator is very strong, and fake_output ≈ real_output. The discriminator struggles, so both terms in disc_loss balance out. Both gen_loss and disc_loss settle near equilibrium.\n",
    "\n",
    "# tf.GradientTape() is a TensorFlow tool used for automatic differentiation, it helps compute gradients of operations with respect to variables.\n",
    "\n",
    "# How It Works -\n",
    "\n",
    "# Records operations: tf.GradientTape() keeps track of mathematical operations performed on tensors inside its with block.\n",
    "# Computes gradients: After executing operations, we can call .gradient(loss, variables) to compute gradients of the loss with respect to the model parameters.\n",
    "# Applies gradients: The computed gradients are then used by an optimizer (e.g., Adam) to update the model’s weights.\n",
    "# .shuffle(60000)\n",
    "\n",
    "# Randomly shuffles the dataset with a buffer size of 60000. Ensures that each batch gets a diverse mix of data, which helps with generalization.\n",
    "\n",
    "# .batch(128)\n",
    "\n",
    "# Groups the data into batches of 128 samples each for efficient processing. Instead of processing one sample at a time, the model processes 128 samples together.\n",
    "\n",
    "# .prefetch(tf.data.AUTOTUNE)\n",
    "\n",
    "# Optimizes data loading by prefetching batches in the background while the model is training. tf.data.AUTOTUNE allows TensorFlow to automatically decide the optimal number of batches to prefetch based on system resources.\n",
    "\n",
    "# Discriminator is overpowering the generator (disc loss > 1.2), preventing it from learning effectively"
   ]
  },
  {
   "cell_type": "code",
   "execution_count": null,
   "id": "40af4327-1092-46e9-96cc-bb2fb5ff3ac5",
   "metadata": {},
   "outputs": [],
   "source": []
  }
 ],
 "metadata": {
  "kernelspec": {
   "display_name": "Python 3 (ipykernel)",
   "language": "python",
   "name": "python3"
  },
  "language_info": {
   "codemirror_mode": {
    "name": "ipython",
    "version": 3
   },
   "file_extension": ".py",
   "mimetype": "text/x-python",
   "name": "python",
   "nbconvert_exporter": "python",
   "pygments_lexer": "ipython3",
   "version": "3.13.5"
  }
 },
 "nbformat": 4,
 "nbformat_minor": 5
}
