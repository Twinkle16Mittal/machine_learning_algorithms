{
 "cells": [
  {
   "cell_type": "code",
   "execution_count": null,
   "id": "7201731a-8fdf-47e3-9be2-d2a793303780",
   "metadata": {},
   "outputs": [],
   "source": []
  },
  {
   "cell_type": "code",
   "execution_count": 1,
   "id": "acd5a705-86e0-4cfb-9ce1-854748079154",
   "metadata": {},
   "outputs": [
    {
     "name": "stderr",
     "output_type": "stream",
     "text": [
      "/Users/twinklemittal/.venvs/nlp312/lib/python3.12/site-packages/keras/src/layers/reshaping/flatten.py:37: UserWarning: Do not pass an `input_shape`/`input_dim` argument to a layer. When using Sequential models, prefer using an `Input(shape)` object as the first layer in the model instead.\n",
      "  super().__init__(**kwargs)\n"
     ]
    },
    {
     "name": "stdout",
     "output_type": "stream",
     "text": [
      "Epoch 1/5\n",
      "\u001b[1m1875/1875\u001b[0m \u001b[32m━━━━━━━━━━━━━━━━━━━━\u001b[0m\u001b[37m\u001b[0m \u001b[1m2s\u001b[0m 773us/step - accuracy: 0.9258 - loss: 0.2586\n",
      "Epoch 2/5\n",
      "\u001b[1m1875/1875\u001b[0m \u001b[32m━━━━━━━━━━━━━━━━━━━━\u001b[0m\u001b[37m\u001b[0m \u001b[1m1s\u001b[0m 776us/step - accuracy: 0.9662 - loss: 0.1140\n",
      "Epoch 3/5\n",
      "\u001b[1m1875/1875\u001b[0m \u001b[32m━━━━━━━━━━━━━━━━━━━━\u001b[0m\u001b[37m\u001b[0m \u001b[1m2s\u001b[0m 808us/step - accuracy: 0.9769 - loss: 0.0778\n",
      "Epoch 4/5\n",
      "\u001b[1m1875/1875\u001b[0m \u001b[32m━━━━━━━━━━━━━━━━━━━━\u001b[0m\u001b[37m\u001b[0m \u001b[1m1s\u001b[0m 772us/step - accuracy: 0.9821 - loss: 0.0572\n",
      "Epoch 5/5\n",
      "\u001b[1m1875/1875\u001b[0m \u001b[32m━━━━━━━━━━━━━━━━━━━━\u001b[0m\u001b[37m\u001b[0m \u001b[1m1s\u001b[0m 769us/step - accuracy: 0.9864 - loss: 0.0442\n"
     ]
    },
    {
     "data": {
      "text/plain": [
       "<keras.src.callbacks.history.History at 0x1649255e0>"
      ]
     },
     "execution_count": 1,
     "metadata": {},
     "output_type": "execute_result"
    }
   ],
   "source": [
    "# Dense layers - Example 1 - MNIST Handwritten Digits Data\n",
    "\n",
    "import tensorflow as tf\n",
    "from tensorflow.keras import layers, models\n",
    "import numpy as np\n",
    "import matplotlib.pyplot as plt\n",
    "\n",
    "(x_train, y_train), (x_test, y_test) = tf.keras.datasets.mnist.load_data()\n",
    "x_train, x_test = x_train / 255.0 , x_test / 255.0\n",
    "\n",
    "model = models.Sequential([\n",
    "    layers.Flatten(input_shape=(28,28)),\n",
    "    layers.Dense(128, activation='relu'),\n",
    "    layers.Dense(10, activation='softmax')\n",
    "])\n",
    "# Dense layers expect a 1D input, so whenever the preceding layer produces multi-dimensional output,\n",
    "# We must flatten it to 1D before passing it to a Dense layer\n",
    "\n",
    "# If the input to a Dense layer is not already 1D, use Flatten to convert it to 1D\n",
    "\n",
    "model.compile(optimizer='adam', loss='sparse_categorical_crossentropy', metrics=['accuracy'])\n",
    "model.fit(x_train, y_train, epochs=5)\n",
    "\n",
    "# test_loss, test_accuracy = model.evaluate(x_test, y_test)\n",
    "# print(f'Test accuarcy:{ test_accuracy* 100:.2f}%')\n",
    "\n",
    "# predictions = model.predict(x_test)\n",
    "# plt.imshow(x_test[0], cmap='gray')\n",
    "# plt.title(f\"True Value :{y_test[0]}, Predicted Value :{np.argmax(predictions[0])}\")\n",
    "# plt.show()"
   ]
  },
  {
   "cell_type": "code",
   "execution_count": 18,
   "id": "c2a5a187-3d39-442a-a636-3ba5df9a2132",
   "metadata": {},
   "outputs": [],
   "source": [
    "from huggingface_hub import login\n",
    "import tensorflow as tf\n",
    "\n",
    "model.save(\"mnist_model.keras\")"
   ]
  },
  {
   "cell_type": "code",
   "execution_count": null,
   "id": "174196d0-5fa5-4d37-9c26-6192f546f905",
   "metadata": {},
   "outputs": [],
   "source": [
    "login()"
   ]
  },
  {
   "cell_type": "code",
   "execution_count": 20,
   "id": "992e6665-d5e2-4109-b434-21dd1c2fb54e",
   "metadata": {},
   "outputs": [
    {
     "data": {
      "text/plain": [
       "RepoUrl('https://huggingface.co/Twinkle16/mnist-model', endpoint='https://huggingface.co', repo_type='model', repo_id='Twinkle16/mnist-model')"
      ]
     },
     "execution_count": 20,
     "metadata": {},
     "output_type": "execute_result"
    }
   ],
   "source": [
    "from huggingface_hub import HfApi\n",
    "# /username/name\n",
    "repo_id = \"Twinkle16/mnist-model\"\n",
    "api = HfApi()\n",
    "api.create_repo(repo_id=repo_id, exist_ok=True)"
   ]
  },
  {
   "cell_type": "code",
   "execution_count": 23,
   "id": "25f9f049-dccb-49b1-aa3c-ec8cb1768b20",
   "metadata": {},
   "outputs": [
    {
     "data": {
      "application/vnd.jupyter.widget-view+json": {
       "model_id": "ba0f8826145e4fb6a9e15ccc124a1be9",
       "version_major": 2,
       "version_minor": 0
      },
      "text/plain": [
       "Processing Files (0 / 0)                : |          |  0.00B /  0.00B            "
      ]
     },
     "metadata": {},
     "output_type": "display_data"
    },
    {
     "data": {
      "application/vnd.jupyter.widget-view+json": {
       "model_id": "a33b0a48b17549b993d2c902b39de6c2",
       "version_major": 2,
       "version_minor": 0
      },
      "text/plain": [
       "New Data Upload                         : |          |  0.00B /  0.00B            "
      ]
     },
     "metadata": {},
     "output_type": "display_data"
    },
    {
     "data": {
      "application/vnd.jupyter.widget-view+json": {
       "model_id": "bf95736d834249ebb70a9c9e6be4f2a8",
       "version_major": 2,
       "version_minor": 0
      },
      "text/plain": [
       "  ...inkles-MacBook-Air.local.10525.0.v2: 100%|##########| 4.15kB / 4.15kB            "
      ]
     },
     "metadata": {},
     "output_type": "display_data"
    },
    {
     "data": {
      "application/vnd.jupyter.widget-view+json": {
       "model_id": "c0bc29e0ce404520bba60611f6b3fd6d",
       "version_major": 2,
       "version_minor": 0
      },
      "text/plain": [
       "  ...inkles-MacBook-Air.local.12587.0.v2: 100%|##########| 4.15kB / 4.15kB            "
      ]
     },
     "metadata": {},
     "output_type": "display_data"
    },
    {
     "data": {
      "application/vnd.jupyter.widget-view+json": {
       "model_id": "dfc04c51977f44a483c9ff4f37b77c22",
       "version_major": 2,
       "version_minor": 0
      },
      "text/plain": [
       "  ...inkles-MacBook-Air.local.10525.1.v2: 100%|##########| 4.12kB / 4.12kB            "
      ]
     },
     "metadata": {},
     "output_type": "display_data"
    },
    {
     "data": {
      "application/vnd.jupyter.widget-view+json": {
       "model_id": "d1e78cb8291a45c79a6a49a08401c0f6",
       "version_major": 2,
       "version_minor": 0
      },
      "text/plain": [
       "  ...winkles-MacBook-Air.local.6548.0.v2: 100%|##########| 4.15kB / 4.15kB            "
      ]
     },
     "metadata": {},
     "output_type": "display_data"
    },
    {
     "data": {
      "application/vnd.jupyter.widget-view+json": {
       "model_id": "3151de80f79b423e93596d4b671b927f",
       "version_major": 2,
       "version_minor": 0
      },
      "text/plain": [
       "  ...winkles-MacBook-Air.local.6548.1.v2: 100%|##########| 4.12kB / 4.12kB            "
      ]
     },
     "metadata": {},
     "output_type": "display_data"
    },
    {
     "data": {
      "application/vnd.jupyter.widget-view+json": {
       "model_id": "766f6b7275aa4f9caf8357bf4a6d5bc8",
       "version_major": 2,
       "version_minor": 0
      },
      "text/plain": [
       "  ...inkles-MacBook-Air.local.12587.1.v2: 100%|##########| 4.12kB / 4.12kB            "
      ]
     },
     "metadata": {},
     "output_type": "display_data"
    },
    {
     "data": {
      "application/vnd.jupyter.widget-view+json": {
       "model_id": "7eb416ab8f8646bd98c59566b8935c31",
       "version_major": 2,
       "version_minor": 0
      },
      "text/plain": [
       "  ...gorithms/Learning/mnist_model.keras: 100%|##########| 1.24MB / 1.24MB            "
      ]
     },
     "metadata": {},
     "output_type": "display_data"
    },
    {
     "data": {
      "text/plain": [
       "CommitInfo(commit_url='https://huggingface.co/Twinkle16/mnist-model/commit/57727b9de3486b05c0363ee1963c27217d8d4ddc', commit_message='Upload folder using huggingface_hub', commit_description='', oid='57727b9de3486b05c0363ee1963c27217d8d4ddc', pr_url=None, repo_url=RepoUrl('https://huggingface.co/Twinkle16/mnist-model', endpoint='https://huggingface.co', repo_type='model', repo_id='Twinkle16/mnist-model'), pr_revision=None, pr_num=None)"
      ]
     },
     "execution_count": 23,
     "metadata": {},
     "output_type": "execute_result"
    }
   ],
   "source": [
    "from huggingface_hub import upload_folder\n",
    "upload_folder(folder_path=\"\", repo_id=repo_id, repo_type=\"model\", ignore_patterns=[\"*.ipynb\"])"
   ]
  },
  {
   "cell_type": "code",
   "execution_count": 24,
   "id": "c4bd66c1-bb3d-4638-9b69-b922d3425c28",
   "metadata": {},
   "outputs": [
    {
     "data": {
      "application/vnd.jupyter.widget-view+json": {
       "model_id": "5cde70eb968f4d33a6044f9d3b11db9f",
       "version_major": 2,
       "version_minor": 0
      },
      "text/plain": [
       "mnist_model.keras:   0%|          | 0.00/1.24M [00:00<?, ?B/s]"
      ]
     },
     "metadata": {},
     "output_type": "display_data"
    }
   ],
   "source": [
    "from tensorflow import keras\n",
    "from huggingface_hub import hf_hub_download\n",
    "\n",
    "model_path = hf_hub_download(repo_id=repo_id, filename = \"mnist_model.keras\")\n",
    "model = keras.models.load_model(model_path)"
   ]
  },
  {
   "cell_type": "code",
   "execution_count": 26,
   "id": "287c1149-146d-48f3-8548-dc1352431b40",
   "metadata": {},
   "outputs": [
    {
     "name": "stdout",
     "output_type": "stream",
     "text": [
      "\u001b[1m1875/1875\u001b[0m \u001b[32m━━━━━━━━━━━━━━━━━━━━\u001b[0m\u001b[37m\u001b[0m \u001b[1m0s\u001b[0m 249us/step\n"
     ]
    },
    {
     "data": {
      "text/plain": [
       "array([[2.9699633e-12, 6.6001193e-12, 1.4264745e-09, ..., 3.1464104e-08,\n",
       "        1.1142096e-09, 1.1711288e-07],\n",
       "       [9.9999952e-01, 2.9490635e-14, 4.6009464e-07, ..., 1.6426213e-08,\n",
       "        7.5070280e-12, 2.2851638e-09],\n",
       "       [2.4885147e-10, 8.6732842e-07, 1.2720241e-04, ..., 2.3147074e-04,\n",
       "        1.0458372e-05, 3.1565427e-04],\n",
       "       ...,\n",
       "       [4.3264125e-12, 3.8069127e-12, 2.1479509e-13, ..., 1.3773940e-10,\n",
       "        3.3645543e-07, 4.9948867e-06],\n",
       "       [4.2402369e-04, 2.4632825e-06, 5.7707235e-05, ..., 4.8158822e-06,\n",
       "        8.9041341e-06, 2.3085191e-07],\n",
       "       [1.2454127e-04, 2.0522606e-07, 5.9422455e-06, ..., 7.7783574e-05,\n",
       "        9.9939549e-01, 3.8122680e-04]], dtype=float32)"
      ]
     },
     "execution_count": 26,
     "metadata": {},
     "output_type": "execute_result"
    }
   ],
   "source": [
    "model.predict(x_train)"
   ]
  },
  {
   "cell_type": "code",
   "execution_count": null,
   "id": "ee07d539-1553-4f01-a114-bc96168c20fa",
   "metadata": {},
   "outputs": [],
   "source": []
  }
 ],
 "metadata": {
  "kernelspec": {
   "display_name": "Python 3.12 (nlp312)",
   "language": "python",
   "name": "nlp312"
  },
  "language_info": {
   "codemirror_mode": {
    "name": "ipython",
    "version": 3
   },
   "file_extension": ".py",
   "mimetype": "text/x-python",
   "name": "python",
   "nbconvert_exporter": "python",
   "pygments_lexer": "ipython3",
   "version": "3.12.11"
  }
 },
 "nbformat": 4,
 "nbformat_minor": 5
}
