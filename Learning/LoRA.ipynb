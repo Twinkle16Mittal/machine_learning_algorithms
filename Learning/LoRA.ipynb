{
 "cells": [
  {
   "cell_type": "code",
   "execution_count": 2,
   "id": "ede784d6-b825-415a-8449-4a64f1b60b46",
   "metadata": {},
   "outputs": [],
   "source": [
    "import numpy as np\n",
    "import tensorflow as tf\n",
    "from tensorflow import keras\n",
    "from tensorflow.keras import layers\n",
    "import matplotlib.pyplot as plt"
   ]
  },
  {
   "cell_type": "raw",
   "id": "804a18b9-3532-4cb4-99de-287e36cedadd",
   "metadata": {},
   "source": [
    "Generate syntectic House Pricing Data"
   ]
  },
  {
   "cell_type": "code",
   "execution_count": 3,
   "id": "a6588e81-4550-4035-b079-877812819c57",
   "metadata": {},
   "outputs": [
    {
     "name": "stdout",
     "output_type": "stream",
     "text": [
      "Training Samples: (400, 2), Test Samples: (100, 2)\n"
     ]
    }
   ],
   "source": [
    "# Generate syntectic data for house prices\n",
    "np.random.seed(42)\n",
    "num_samples = 500\n",
    "\n",
    "# Features: house size (sq ft) and location index\n",
    "X = np.random.rand(num_samples, 2) *100\n",
    "\n",
    "# True price equation: Price = 50 * size + 30 * Location + Noise\n",
    "y = 50 * X[:, 0] + 30 * X[:, 1] + np.random.randn(num_samples) *10\n",
    "y = y.reshape(-1, 1)\n",
    "\n",
    "# Split into training and test sets\n",
    "train_size = int(0.8 * num_samples)\n",
    "X_train, y_train = X[: train_size], y[:train_size]\n",
    "X_test, y_test = X[train_size:], y[train_size:]\n",
    "\n",
    "print(f\"Training Samples: {X_train.shape}, Test Samples: {X_test.shape}\")"
   ]
  },
  {
   "cell_type": "raw",
   "id": "d373a7b3-cfbc-4a6b-a57c-153f391a3dc7",
   "metadata": {},
   "source": [
    "Define LoRA Layer\n",
    "\n",
    "How This Works:\n",
    "\n",
    "W is frozen (not updated during training).\n",
    "\n",
    "A and B are trained, capturing task-specific knowledge.\n",
    "\n",
    "The LoRA update A⋅B adapts the model with fewer parameters."
   ]
  },
  {
   "cell_type": "code",
   "execution_count": 4,
   "id": "eec54c9a-802a-45be-96da-3ec80eb1290d",
   "metadata": {},
   "outputs": [],
   "source": [
    "class LoRALayer(tf.keras.layers.Layer):\n",
    "    def __init__(self, input_dim, output_dim, rank=2, alpha=1.0):\n",
    "        super(LoRALayer, self).__init__()\n",
    "        self.rank = rank\n",
    "        self.alpha = alpha # Scaling factor\n",
    "\n",
    "        # Main frozen weight matrix\n",
    "        self.W = self.add_weight(shape=(input_dim, output_dim), initializer=\"random_normal\", trainable=False)\n",
    "\n",
    "        # LoRA trainable low-rank matrices\n",
    "        self.A = self.add_weight(shape=(input_dim, rank), initializer=\"random_normal\", trainable=True)\n",
    "        self.B = self.add_weight(shape=(rank, output_dim), initializer=\"random_normal\", trainable=True)\n",
    "\n",
    "    def call(self, inputs):\n",
    "        lora_update = tf.matmul(inputs, self.A) # XA\n",
    "        lora_update = tf.matmul(lora_update, self.B) * self.alpha # XAB alpha\n",
    "        return tf.matmul(inputs, self.W) + lora_update # W is frozen, only A and B update\n",
    "\n",
    "        # XW + XAB alpha\n",
    "        # X (W + AB alpha)\n",
    "    \n",
    "        "
   ]
  },
  {
   "cell_type": "raw",
   "id": "207c3a71-fdd0-4c7e-9d01-2cdf013aadb5",
   "metadata": {},
   "source": [
    "Build Regression Model with LoRa"
   ]
  },
  {
   "cell_type": "code",
   "execution_count": 5,
   "id": "438e5bde-dc66-4330-8e98-8c93bb6fdbbe",
   "metadata": {},
   "outputs": [],
   "source": [
    "# Define the model with LoRA\n",
    "input_dim = X_train.shape[1]\n",
    "output_dim = 1 # Predicting house price\n",
    "\n",
    "inputs = keras.Input(shape=(input_dim,))\n",
    "x = LoRALayer(input_dim, 16, rank=2, alpha=1.0)(inputs) # LoRA applied here\n",
    "x = layers.ReLU()(x)\n",
    "x = layers.Dense(1)(x) # Final regression output\n",
    "model = keras.Model(inputs, x)\n",
    "\n",
    "# Compile the model\n",
    "model.compile(optimizer=keras.optimizers.Adam(learning_rate=0.01), loss=\"mse\")\n"
   ]
  },
  {
   "cell_type": "raw",
   "id": "600e41fc-4029-40a1-a98a-5f67e0c6f67d",
   "metadata": {},
   "source": [
    "Train the model"
   ]
  },
  {
   "cell_type": "code",
   "execution_count": 6,
   "id": "8a2577db-300d-495e-866c-ace6bee2d11e",
   "metadata": {},
   "outputs": [
    {
     "name": "stdout",
     "output_type": "stream",
     "text": [
      "Epoch 1/10\n",
      "\u001b[1m25/25\u001b[0m \u001b[32m━━━━━━━━━━━━━━━━━━━━\u001b[0m\u001b[37m\u001b[0m \u001b[1m0s\u001b[0m 3ms/step - loss: 18399526.0000 - val_loss: 16003237.0000\n",
      "Epoch 2/10\n",
      "\u001b[1m25/25\u001b[0m \u001b[32m━━━━━━━━━━━━━━━━━━━━\u001b[0m\u001b[37m\u001b[0m \u001b[1m0s\u001b[0m 1ms/step - loss: 17205704.0000 - val_loss: 13604535.0000\n",
      "Epoch 3/10\n",
      "\u001b[1m25/25\u001b[0m \u001b[32m━━━━━━━━━━━━━━━━━━━━\u001b[0m\u001b[37m\u001b[0m \u001b[1m0s\u001b[0m 1ms/step - loss: 11781983.0000 - val_loss: 5969108.0000\n",
      "Epoch 4/10\n",
      "\u001b[1m25/25\u001b[0m \u001b[32m━━━━━━━━━━━━━━━━━━━━\u001b[0m\u001b[37m\u001b[0m \u001b[1m0s\u001b[0m 1ms/step - loss: 2530671.0000 - val_loss: 180198.0469\n",
      "Epoch 5/10\n",
      "\u001b[1m25/25\u001b[0m \u001b[32m━━━━━━━━━━━━━━━━━━━━\u001b[0m\u001b[37m\u001b[0m \u001b[1m0s\u001b[0m 1ms/step - loss: 242434.7188 - val_loss: 132257.4844\n",
      "Epoch 6/10\n",
      "\u001b[1m25/25\u001b[0m \u001b[32m━━━━━━━━━━━━━━━━━━━━\u001b[0m\u001b[37m\u001b[0m \u001b[1m0s\u001b[0m 1ms/step - loss: 115485.4766 - val_loss: 92667.2891\n",
      "Epoch 7/10\n",
      "\u001b[1m25/25\u001b[0m \u001b[32m━━━━━━━━━━━━━━━━━━━━\u001b[0m\u001b[37m\u001b[0m \u001b[1m0s\u001b[0m 1ms/step - loss: 76712.1719 - val_loss: 61642.4219\n",
      "Epoch 8/10\n",
      "\u001b[1m25/25\u001b[0m \u001b[32m━━━━━━━━━━━━━━━━━━━━\u001b[0m\u001b[37m\u001b[0m \u001b[1m0s\u001b[0m 1ms/step - loss: 51844.4805 - val_loss: 40744.8711\n",
      "Epoch 9/10\n",
      "\u001b[1m25/25\u001b[0m \u001b[32m━━━━━━━━━━━━━━━━━━━━\u001b[0m\u001b[37m\u001b[0m \u001b[1m0s\u001b[0m 1ms/step - loss: 33527.2695 - val_loss: 25910.8496\n",
      "Epoch 10/10\n",
      "\u001b[1m25/25\u001b[0m \u001b[32m━━━━━━━━━━━━━━━━━━━━\u001b[0m\u001b[37m\u001b[0m \u001b[1m0s\u001b[0m 1ms/step - loss: 21222.9453 - val_loss: 15662.2988\n"
     ]
    }
   ],
   "source": [
    "# Train the model\n",
    "history = model.fit(X_train, y_train, epochs=10, batch_size=16, validation_data=(X_test, y_test), verbose=1)"
   ]
  },
  {
   "cell_type": "raw",
   "id": "f9ca4fdb-f304-4288-adda-27208d81a9a6",
   "metadata": {},
   "source": [
    "Evalutate Performance"
   ]
  },
  {
   "cell_type": "code",
   "execution_count": 7,
   "id": "c0a5c73a-9396-497b-a674-e9c880e2c4de",
   "metadata": {},
   "outputs": [
    {
     "name": "stdout",
     "output_type": "stream",
     "text": [
      "Test Loss (MSE): 15662.298828125\n"
     ]
    },
    {
     "data": {
      "image/png": "[encoded data removed]",
      "text/plain": [
       "<Figure size 640x480 with 1 Axes>"
      ]
     },
     "metadata": {},
     "output_type": "display_data"
    }
   ],
   "source": [
    "# Evaluate on test data\n",
    "test_loss = model.evaluate(X_test, y_test, verbose=0)\n",
    "print(f\"Test Loss (MSE): {test_loss}\")\n",
    "\n",
    "# Plot training loss\n",
    "plt.plot(history.history[\"loss\"], label=\"Train Loss\")\n",
    "plt.plot(history.history[\"val_loss\"], label=\"Validation Loss\")\n",
    "plt.xlabel(\"Epochs\")\n",
    "plt.ylabel(\"MSE Loss\")\n",
    "plt.legend()\n",
    "plt.show()"
   ]
  },
  {
   "cell_type": "raw",
   "id": "661e3ba6-3776-490c-adc3-aee40283f4fd",
   "metadata": {},
   "source": [
    "Code to quantize and dequantize weights to and from 8bits . Used in QLora"
   ]
  },
  {
   "cell_type": "code",
   "execution_count": null,
   "id": "2e48b7d9-d537-4036-bfda-a49d6eed4ad1",
   "metadata": {},
   "outputs": [],
   "source": [
    "# 🔹 Step 2: 4-bit Quantization Function\n",
    "def quantize_4bit(weights):\n",
    "    \"\"\"Convert weights to 4-bit representation and store scale factor.\"\"\"\n",
    "    min_w, max_w = np.min(weights), np.max(weights)\n",
    "    scale = (max_w - min_w) / 15  # 2^4 - 1 = 15 levels in 4-bit\n",
    "    quantized = np.round((weights - min_w) / scale).astype(np.int8)  # Store as int8\n",
    "    return quantized, min_w, scale\n",
    "\n",
    "def dequantize_4bit(quantized, min_w, scale):\n",
    "    \"\"\"Dequantize 4-bit weights back to floating point values.\"\"\"\n",
    "    return quantized * scale + min_w\n",
    "\n"
   ]
  }
 ],
 "metadata": {
  "kernelspec": {
   "display_name": "Python 3.12 (nlp312)",
   "language": "python",
   "name": "nlp312"
  },
  "language_info": {
   "codemirror_mode": {
    "name": "ipython",
    "version": 3
   },
   "file_extension": ".py",
   "mimetype": "text/x-python",
   "name": "python",
   "nbconvert_exporter": "python",
   "pygments_lexer": "ipython3",
   "version": "3.12.11"
  }
 },
 "nbformat": 4,
 "nbformat_minor": 5
}
